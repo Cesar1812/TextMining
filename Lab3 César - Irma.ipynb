{
 "cells": [
  {
   "cell_type": "markdown",
   "metadata": {},
   "source": [
    "# Text Mining Hoja de Trabajo 3"
   ]
  },
  {
   "cell_type": "markdown",
   "metadata": {},
   "source": [
    "## Problema 1: \n",
    "### 1.1 Implemente una regex para validar un correo electr´onico en general"
   ]
  },
  {
   "cell_type": "code",
   "execution_count": 1,
   "metadata": {},
   "outputs": [
    {
     "data": {
      "text/plain": [
       "'^[a-zA-Z0-9._%+-]+@[a-zA-Z0-9.-]+\\\\.[a-zA-Z]{2,}$'"
      ]
     },
     "execution_count": 1,
     "metadata": {},
     "output_type": "execute_result"
    }
   ],
   "source": [
    "\"^[a-zA-Z0-9._%+-]+@[a-zA-Z0-9.-]+\\.[a-zA-Z]{2,}$\""
   ]
  },
  {
   "cell_type": "code",
   "execution_count": 3,
   "metadata": {},
   "outputs": [
    {
     "name": "stdout",
     "output_type": "stream",
     "text": [
      "El correo es válido\n"
     ]
    }
   ],
   "source": [
    "import re\n",
    "\n",
    "def validar_correo(correo):\n",
    "    patron = r\"^[a-zA-Z0-9._%+-]+@[a-zA-Z0-9.-]+\\.[a-zA-Z]{2,}$\"\n",
    "    return re.match(patron, correo) is not None\n",
    "\n",
    "# Ejemplo de uso\n",
    "correo = \"usuario@dominio.com\"\n",
    "if validar_correo(correo):\n",
    "    print(\"El correo es válido\")\n",
    "else:\n",
    "    print(\"El correo no es válido\")\n",
    "\n"
   ]
  },
  {
   "cell_type": "markdown",
   "metadata": {},
   "source": [
    "### 1.2 implemente una regex para validar la direcci´on url de una p´agina web con los tipos de domino (.com, .org, .edu). Note que la url incluye el protocolo (http o https) y los s´ımbolos (//www.)"
   ]
  },
  {
   "cell_type": "code",
   "execution_count": 2,
   "metadata": {},
   "outputs": [
    {
     "data": {
      "text/plain": [
       "'^(https?://)?(www\\\\.)?[a-zA-Z0-9.-]+\\\\.(com|org|edu)$'"
      ]
     },
     "execution_count": 2,
     "metadata": {},
     "output_type": "execute_result"
    }
   ],
   "source": [
    "\"^(https?://)?(www\\.)?[a-zA-Z0-9.-]+\\.(com|org|edu)$\""
   ]
  },
  {
   "cell_type": "code",
   "execution_count": 4,
   "metadata": {},
   "outputs": [
    {
     "name": "stdout",
     "output_type": "stream",
     "text": [
      "True\n",
      "True\n",
      "True\n"
     ]
    }
   ],
   "source": [
    "import re\n",
    "\n",
    "def validar_url(url):\n",
    "    patron = r'^(https?://)?(www\\.)?[a-zA-Z0-9.-]+\\.(com|org|edu)$'\n",
    "    return re.match(patron, url) is not None\n",
    "\n",
    "# Ejemplo de uso\n",
    "url1 = \"http://www.ejemplo.com\"\n",
    "url2 = \"https://www.ejemplo.org\"\n",
    "url3 = \"https://ejemplo.edu\"\n",
    "\n",
    "print(validar_url(url1))  # True\n",
    "print(validar_url(url2))  # True\n",
    "print(validar_url(url3))  # True\n"
   ]
  },
  {
   "cell_type": "markdown",
   "metadata": {},
   "source": [
    "### 1.3 Implemente una regex para validar una MAC Address, notar que las mac address están divididas en 6 bloques de caracteres hexadecimales, es decir que los símbolos solo pueden variar del 0 al 9 y las letras de la A a la F."
   ]
  },
  {
   "cell_type": "code",
   "execution_count": 3,
   "metadata": {},
   "outputs": [
    {
     "data": {
      "text/plain": [
       "'^([0-9A-Fa-f]{2}[:-]){5}([0-9A-Fa-f]{2})$'"
      ]
     },
     "execution_count": 3,
     "metadata": {},
     "output_type": "execute_result"
    }
   ],
   "source": [
    "\"^([0-9A-Fa-f]{2}[:-]){5}([0-9A-Fa-f]{2})$\""
   ]
  },
  {
   "cell_type": "code",
   "execution_count": 5,
   "metadata": {},
   "outputs": [
    {
     "name": "stdout",
     "output_type": "stream",
     "text": [
      "True\n",
      "True\n",
      "True\n"
     ]
    }
   ],
   "source": [
    "import re\n",
    "\n",
    "def validar_mac(mac):\n",
    "    patron = r'^([0-9A-Fa-f]{2}[:-]){5}([0-9A-Fa-f]{2})$'\n",
    "    return re.match(patron, mac) is not None\n",
    "\n",
    "# Ejemplo de uso\n",
    "mac1 = \"00:1A:2B:3C:4D:5E\"\n",
    "mac2 = \"01-23-45-67-89-AB\"\n",
    "mac3 = \"a1:b2:c3:d4:e5:f6\"\n",
    "\n",
    "print(validar_mac(mac1))  # True\n",
    "print(validar_mac(mac2))  # True\n",
    "print(validar_mac(mac3))  # True\n"
   ]
  },
  {
   "cell_type": "markdown",
   "metadata": {},
   "source": [
    "### 1.4 Implemente una regex para validar una dirección IPv4, notar que las direcciones IPv4 están divididas en 4 bloques de valores los cuales solo pueden ir desde 0 hasta 255, una ip donde algunos de sus bloques sea mayor a 255 no es valida, además tome en cuenta que cada bloque está separada por un punto."
   ]
  },
  {
   "cell_type": "code",
   "execution_count": 4,
   "metadata": {},
   "outputs": [
    {
     "data": {
      "text/plain": [
       "'^(25[0-5]|2[0-4][0-9]|[01]?[0-9][0-9]?)\\\\.(25[0-5]|2[0-4][0-9]|[01]?[0-9][0-9]?)\\\\.(25[0-5]|2[0-4][0-9]|[01]?[0-9][0-9]?)\\\\.(25[0-5]|2[0-4][0-9]|[01]?[0-9][0-9]?)$'"
      ]
     },
     "execution_count": 4,
     "metadata": {},
     "output_type": "execute_result"
    }
   ],
   "source": [
    "\"^(25[0-5]|2[0-4][0-9]|[01]?[0-9][0-9]?)\\.(25[0-5]|2[0-4][0-9]|[01]?[0-9][0-9]?)\\.(25[0-5]|2[0-4][0-9]|[01]?[0-9][0-9]?)\\.(25[0-5]|2[0-4][0-9]|[01]?[0-9][0-9]?)$\""
   ]
  },
  {
   "cell_type": "code",
   "execution_count": 5,
   "metadata": {},
   "outputs": [
    {
     "name": "stdout",
     "output_type": "stream",
     "text": [
      "True\n",
      "True\n",
      "False\n"
     ]
    }
   ],
   "source": [
    "import re\n",
    "\n",
    "def validar_ipv4(ip):\n",
    "    patron = r'^(25[0-5]|2[0-4][0-9]|[01]?[0-9][0-9]?)\\.(25[0-5]|2[0-4][0-9]|[01]?[0-9][0-9]?)\\.(25[0-5]|2[0-4][0-9]|[01]?[0-9][0-9]?)\\.(25[0-5]|2[0-4][0-9]|[01]?[0-9][0-9]?)$'\n",
    "    return re.match(patron, ip) is not None\n",
    "\n",
    "# Ejemplo de uso\n",
    "ip1 = \"192.168.0.1\"\n",
    "ip2 = \"10.0.0.255\"\n",
    "ip3 = \"256.256.256.256\"  # No es válida\n",
    "\n",
    "print(validar_ipv4(ip1))  # True\n",
    "print(validar_ipv4(ip2))  # True\n",
    "print(validar_ipv4(ip3))  # False\n"
   ]
  },
  {
   "cell_type": "markdown",
   "metadata": {},
   "source": [
    "### 1.5 Implemente una regex para validar una fecha con la secuencia día-mes-año donde el día, mes y año puedan estar separados ya sea por el carácter / o el carácter - o el carácter ., notar que las fechas son validas si los si los días están definidos desde el 1 al 31, el mes del 1 al 12 y el año de 2000 al 2019. También debe tomar en cuenta que los días y meses pueden estar escritos ya sea con uno o dos caracteres por ejemplo: Enero puede escribirse como 1 o como 01. Los años también pueden expresarse ya sea con dos o con cuatro caracteres por ejemplo: 19 o 2019 son validos."
   ]
  },
  {
   "cell_type": "code",
   "execution_count": 6,
   "metadata": {},
   "outputs": [
    {
     "data": {
      "text/plain": [
       "'^(0[1-9]|[12][0-9]|3[01])([\\\\/\\\\-.])(0[1-9]|1[0-2])\\x02(20\\\\d{2}|19\\\\d{2})$'"
      ]
     },
     "execution_count": 6,
     "metadata": {},
     "output_type": "execute_result"
    }
   ],
   "source": [
    "\"^(0[1-9]|[12][0-9]|3[01])([\\/\\-.])(0[1-9]|1[0-2])\\2(20\\d{2}|19\\d{2})$\""
   ]
  },
  {
   "cell_type": "code",
   "execution_count": 8,
   "metadata": {},
   "outputs": [
    {
     "name": "stdout",
     "output_type": "stream",
     "text": [
      "True\n",
      "True\n",
      "True\n",
      "False\n"
     ]
    }
   ],
   "source": [
    "import re\n",
    "\n",
    "def validar_fecha(fecha):\n",
    "    patron = r'^(0[1-9]|[12][0-9]|3[01])([\\/\\-.])(0[1-9]|1[0-2])\\2(20\\d{2}|19\\d{2})$'\n",
    "    return re.match(patron, fecha) is not None\n",
    "\n",
    "# Ejemplo de uso\n",
    "fecha1 = \"01/01/2019\"\n",
    "fecha2 = \"15-12-2005\"\n",
    "fecha3 = \"31.03.2008\"\n",
    "fecha4 = \"32-12-2019\"  # No es válida\n",
    "\n",
    "print(validar_fecha(fecha1))  # True\n",
    "print(validar_fecha(fecha2))  # True\n",
    "print(validar_fecha(fecha3))  # True\n",
    "print(validar_fecha(fecha4))  # False\n"
   ]
  },
  {
   "cell_type": "markdown",
   "metadata": {},
   "source": [
    "# Problema 2"
   ]
  },
  {
   "cell_type": "markdown",
   "metadata": {},
   "source": [
    "### En la carpeta encontrará adjuntos 21 documentos que tiene 100 fechas en la secuencia días-mes-año pero con distinto separador y distinto formato de mes, en algunos casos aparece un numero y en otros el nombre del mes en ingles, por ejemplo: Enero pueden aparecer como 1 o como Jan. Utilice Python y expresiones regulares para encontrar el día, mes y año promedio total del los 21 archivos, los resultados deben ser un double."
   ]
  },
  {
   "cell_type": "code",
   "execution_count": 16,
   "metadata": {},
   "outputs": [
    {
     "name": "stdout",
     "output_type": "stream",
     "text": [
      "No se pudo convertir la fecha: 01-23-45\n",
      "No se pudo convertir la fecha: 0/0/255\n",
      "No se pudo convertir la fecha: 15-12-2005\n",
      "No se pudo convertir la fecha: 32-12-2019\n",
      "2013-02-16 00:00:00\n"
     ]
    }
   ],
   "source": [
    "import os\n",
    "import re\n",
    "from datetime import datetime\n",
    "\n",
    "def obtener_fechas(archivo):\n",
    "    with open(archivo, 'r', encoding='latin-1') as f:\n",
    "        contenido = f.read()\n",
    "        fechas = re.findall(r'\\d{1,2}[./-]\\d{1,2}[./-]\\d{2,4}|[A-Za-z]+\\s\\d{1,2},\\s\\d{2,4}', contenido)\n",
    "        return fechas\n",
    "\n",
    "def normalizar_fecha(fecha):\n",
    "    try:\n",
    "        fecha = fecha.replace(',', '')\n",
    "        fecha = fecha.replace('.', '/')\n",
    "        fecha = datetime.strptime(fecha, '%d/%m/%Y')\n",
    "        return fecha\n",
    "    except ValueError:\n",
    "        try:\n",
    "            fecha = datetime.strptime(fecha, '%b %d %Y')\n",
    "            return fecha\n",
    "        except ValueError as e:\n",
    "            print(f\"No se pudo convertir la fecha: {fecha}\")\n",
    "            return None\n",
    "\n",
    "# Reemplaza la siguiente línea con la ruta correcta de tu carpeta\n",
    "carpeta = 'C:/Users/mile1/OneDrive - Universidad Galileo/M2 Q3/Text Mining/Laboratorios/Lab 3'\n",
    "archivos = [os.path.join(carpeta, archivo) for archivo in os.listdir(carpeta) if os.path.isfile(os.path.join(carpeta, archivo))]\n",
    "\n",
    "fechas_totales = []\n",
    "\n",
    "for archivo in archivos:\n",
    "    fechas = obtener_fechas(archivo)\n",
    "    fechas_totales.extend(fechas)\n",
    "\n",
    "fechas_normalizadas = [fecha for fecha in (normalizar_fecha(fecha) for fecha in fechas_totales) if fecha is not None]\n",
    "\n",
    "# Calcular el promedio de día, mes y año por separado\n",
    "dias = sum(fecha.day for fecha in fechas_normalizadas) / len(fechas_normalizadas)\n",
    "meses = sum(fecha.month for fecha in fechas_normalizadas) / len(fechas_normalizadas)\n",
    "años = sum(fecha.year for fecha in fechas_normalizadas) / len(fechas_normalizadas)\n",
    "\n",
    "fecha_promedio = datetime(int(años), int(meses), int(dias))\n",
    "\n",
    "print(fecha_promedio)\n"
   ]
  }
 ],
 "metadata": {
  "kernelspec": {
   "display_name": "base",
   "language": "python",
   "name": "python3"
  },
  "language_info": {
   "codemirror_mode": {
    "name": "ipython",
    "version": 3
   },
   "file_extension": ".py",
   "mimetype": "text/x-python",
   "name": "python",
   "nbconvert_exporter": "python",
   "pygments_lexer": "ipython3",
   "version": "3.9.7"
  },
  "orig_nbformat": 4
 },
 "nbformat": 4,
 "nbformat_minor": 2
}
